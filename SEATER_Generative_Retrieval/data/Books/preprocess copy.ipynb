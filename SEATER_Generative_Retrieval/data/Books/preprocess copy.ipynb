{
 "cells": [
  {
   "cell_type": "code",
   "execution_count": 1,
   "metadata": {},
   "outputs": [],
   "source": [
    "import pandas as pd\n",
    "import numpy as np\n",
    "import os\n",
    "import polars as pl\n",
    "\n",
    "# Load Yelp data from raw_data directory\n",
    "raw_data_path = '../../../../Books/Books/raw_data/'\n",
    "target_path = '../../../../Books/Books/dataset/'\n",
    "filter_size = 5"
   ]
  },
  {
   "cell_type": "code",
   "execution_count": 39,
   "metadata": {},
   "outputs": [],
   "source": [
    "import ijson\n",
    "f = open(os.path.join(raw_data_path, 'meta_Books.json'), 'rb')\n",
    "parser = ijson.parse(f, multiple_values = True)"
   ]
  },
  {
   "cell_type": "code",
   "execution_count": 19,
   "metadata": {},
   "outputs": [],
   "source": [
    "import csv\n",
    "with open(os.path.join(raw_data_path, 'BookIDtoBrand.csv'), \"w\") as csv_file:\n",
    "        writer = csv.writer(csv_file, delimiter='\\t')\n",
    "        data = []\n",
    "        for prefix, event, value in parser:\n",
    "            # print(prefix)\n",
    "            if prefix==\"asin\":\n",
    "                # print(value)\n",
    "                data.append(value)\n",
    "\n",
    "            elif prefix==\"brand\":\n",
    "                data.append(value)\n",
    "                # print(value)\n",
    "            # elif prefix==\"business_id\":\n",
    "            #     data.append(value)\n",
    "            # elif prefix==\"date\":\n",
    "            #     data.append(value)\n",
    "            elif event == \"end_map\":\n",
    "                writer.writerow(data)\n",
    "                data = []"
   ]
  },
  {
   "cell_type": "code",
   "execution_count": 15,
   "metadata": {},
   "outputs": [],
   "source": [
    "import ijson\n",
    "f = open(os.path.join(raw_data_path, 'Books_5.json'), 'rb')\n",
    "parser = ijson.parse(f, multiple_values = True)"
   ]
  },
  {
   "cell_type": "code",
   "execution_count": 16,
   "metadata": {},
   "outputs": [],
   "source": [
    "import csv\n",
    "with open(os.path.join(raw_data_path, 'Books5Reduced.csv'), \"w\") as csv_file:\n",
    "        writer = csv.writer(csv_file, delimiter=' ')\n",
    "        data = []\n",
    "        for prefix, event, value in parser:\n",
    "            if prefix==\"reviewerID\":\n",
    "                data.append(value)\n",
    "            elif prefix==\"asin\":\n",
    "                data.append(value)\n",
    "            elif prefix==\"unixReviewTime\":\n",
    "                data.append(value)\n",
    "            elif event == \"end_map\":\n",
    "                writer.writerow(data)\n",
    "                data = []"
   ]
  },
  {
   "cell_type": "code",
   "execution_count": 40,
   "metadata": {},
   "outputs": [
    {
     "name": "stderr",
     "output_type": "stream",
     "text": [
      "C:\\Users\\tangs\\AppData\\Local\\Temp\\ipykernel_21940\\3211641918.py:2: DtypeWarning: Columns (1) have mixed types. Specify dtype option on import or set low_memory=False.\n",
      "  id2cat = pd.read_csv(os.path.join(raw_data_path, 'BookIDtoBrand.csv'), sep = '\\t', header=None)\n"
     ]
    }
   ],
   "source": [
    "review_df = pd.read_csv(os.path.join(raw_data_path, 'Books5Reduced.csv'), sep = ' ', header=None)\n",
    "id2cat = pd.read_csv(os.path.join(raw_data_path, 'BookIDtoBrand.csv'), sep = '\\t', header=None)"
   ]
  },
  {
   "cell_type": "code",
   "execution_count": 41,
   "metadata": {},
   "outputs": [],
   "source": [
    "review_df = review_df.rename(columns={0:'user_id', 1:'business_id', 2:'date'})\n",
    "id2cat = id2cat.rename(columns={0:'category', 1:'business_id'})"
   ]
  },
  {
   "cell_type": "code",
   "execution_count": 28,
   "metadata": {},
   "outputs": [],
   "source": [
    "review_df = review_df.merge(id2cat, on='business_id')"
   ]
  },
  {
   "cell_type": "code",
   "execution_count": 42,
   "metadata": {},
   "outputs": [],
   "source": [
    "# Create business_id to incremental id mapping\n",
    "unique_business_ids = review_df['business_id'].unique()\n",
    "business_id_to_idx = {business_id: idx for idx, business_id in enumerate(unique_business_ids)}\n",
    "\n",
    "# Create user_id to incremental id mapping\n",
    "unique_user_ids = review_df['user_id'].unique()\n",
    "user_id_to_idx = {user_id: idx for idx, user_id in enumerate(unique_user_ids)}\n"
   ]
  },
  {
   "cell_type": "code",
   "execution_count": 43,
   "metadata": {},
   "outputs": [],
   "source": [
    "id2cat['index'] = id2cat['business_id'].map(business_id_to_idx)"
   ]
  },
  {
   "cell_type": "code",
   "execution_count": 50,
   "metadata": {},
   "outputs": [],
   "source": [
    "id2cat = id2cat.drop(['business_id'], axis=1)"
   ]
  },
  {
   "cell_type": "code",
   "execution_count": 47,
   "metadata": {},
   "outputs": [],
   "source": [
    "id2cat = id2cat.dropna(axis=0)"
   ]
  },
  {
   "cell_type": "code",
   "execution_count": 52,
   "metadata": {},
   "outputs": [],
   "source": [
    "id2cat['index'] = id2cat['index'].astype(int)"
   ]
  },
  {
   "cell_type": "code",
   "execution_count": 57,
   "metadata": {},
   "outputs": [],
   "source": [
    "\n",
    "id2cat = id2cat.iloc[:, [1, 0]]"
   ]
  },
  {
   "cell_type": "code",
   "execution_count": 59,
   "metadata": {},
   "outputs": [],
   "source": [
    "id2cat.to_csv(os.path.join(target_path, 'id2cat.tsv'), sep='\\t', index=False)"
   ]
  },
  {
   "cell_type": "code",
   "execution_count": 60,
   "metadata": {},
   "outputs": [],
   "source": [
    "# Filter items by popularity\n",
    "item_counts = review_df['business_id'].value_counts()\n",
    "popular_items = item_counts[item_counts >= filter_size].index.tolist()\n",
    "\n",
    "# Filter reviews to only include popular items\n",
    "filtered_reviews = review_df[review_df['business_id'].isin(popular_items)]\n",
    "\n",
    "# Filter users by activity\n",
    "user_counts = filtered_reviews['user_id'].value_counts()\n",
    "active_users = user_counts[user_counts >= filter_size].index.tolist()\n",
    "\n",
    "# Filter reviews to only include active users\n",
    "filtered_reviews = filtered_reviews[filtered_reviews['user_id'].isin(active_users)]\n",
    "\n",
    "# Get unique user IDs and shuffle them\n",
    "user_ids = filtered_reviews['user_id'].unique()\n",
    "np.random.shuffle(user_ids)\n",
    "\n",
    "# Split users into train/valid/test\n",
    "num_users = len(user_ids)\n",
    "split_1 = int(num_users * 0.8)\n",
    "split_2 = int(num_users * 0.9)\n",
    "train_users = user_ids[:split_1]\n",
    "valid_users = user_ids[split_1:split_2]\n",
    "test_users = user_ids[split_2:]\n",
    "\n",
    "# Process each split\n",
    "train_data = filtered_reviews[filtered_reviews['user_id'].isin(train_users)]\n",
    "valid_data = filtered_reviews[filtered_reviews['user_id'].isin(valid_users)]\n",
    "test_data = filtered_reviews[filtered_reviews['user_id'].isin(test_users)]"
   ]
  },
  {
   "cell_type": "code",
   "execution_count": 61,
   "metadata": {},
   "outputs": [
    {
     "data": {
      "text/plain": [
       "7110044"
      ]
     },
     "execution_count": 61,
     "metadata": {},
     "output_type": "execute_result"
    }
   ],
   "source": [
    "train_data.shape[0]"
   ]
  },
  {
   "cell_type": "code",
   "execution_count": 78,
   "metadata": {},
   "outputs": [
    {
     "name": "stderr",
     "output_type": "stream",
     "text": [
      "100%|██████████| 60367/60367 [00:15<00:00, 3791.88it/s]\n"
     ]
    }
   ],
   "source": [
    "from tqdm import tqdm\n",
    "# Process validation data\n",
    "valid_formatted = pd.DataFrame(columns=['user_id', 'given_user_history', 'predicting_items'])\n",
    "\n",
    "with open(os.path.join(target_path, 'validation.tsv'), \"w\", newline='') as csv_file:\n",
    "    writer = csv.writer(csv_file, delimiter=\"\\t\")\n",
    "    writer.writerow([\"user_id\", \"given_user_history\", \"predicting_items\"])\n",
    "    for user_id, group in tqdm(valid_data.groupby('user_id')):\n",
    "        # Sort by date first\n",
    "        sorted_group = group.sort_values('date')\n",
    "        business_ids = sorted_group['business_id'].tolist()\n",
    "        split_idx = int(len(business_ids) * 0.8)\n",
    "        given_history = [business_id_to_idx[bid] for bid in business_ids[:split_idx]]\n",
    "        predicting_items = [business_id_to_idx[bid] for bid in business_ids[split_idx:]]\n",
    "\n",
    "        writer.writerow([user_id_to_idx[user_id], given_history, predicting_items])\n",
    "    \n",
    "    \n",
    "    # new_row = pd.DataFrame({\n",
    "    #     'user_id': [user_id_to_idx[user_id]],\n",
    "    #     'given_user_history': [given_history],\n",
    "    #     'predicting_items': [predicting_items]\n",
    "    # })\n",
    "    # valid_formatted = pd.concat([valid_formatted, new_row], ignore_index=True)\n",
    "\n",
    "# valid_formatted.to_csv(os.path.join(target_path, 'validation.tsv'), sep='\\t', index=False)\n"
   ]
  },
  {
   "cell_type": "code",
   "execution_count": 77,
   "metadata": {},
   "outputs": [
    {
     "name": "stderr",
     "output_type": "stream",
     "text": [
      "100%|██████████| 60367/60367 [00:16<00:00, 3634.41it/s]\n"
     ]
    }
   ],
   "source": [
    "\n",
    "# Process test data\n",
    "test_formatted = pd.DataFrame(columns=['user_id', 'given_user_history', 'predicting_items'])\n",
    "\n",
    "\n",
    "with open(os.path.join(target_path, 'test.tsv'), \"w\", newline='') as csv_file:\n",
    "    writer = csv.writer(csv_file, delimiter=\"\\t\")\n",
    "    writer.writerow([\"user_id\", \"given_user_history\", \"predicting_items\"])\n",
    "    for user_id, group in tqdm(test_data.groupby('user_id')):\n",
    "        # Sort by date first\n",
    "        sorted_group = group.sort_values('date')\n",
    "        business_ids = sorted_group['business_id'].tolist()\n",
    "        split_idx = int(len(business_ids) * 0.8)\n",
    "        given_history = [business_id_to_idx[bid] for bid in business_ids[:split_idx]]\n",
    "        predicting_items = [business_id_to_idx[bid] for bid in business_ids[split_idx:]]\n",
    "\n",
    "        writer.writerow([user_id_to_idx[user_id], given_history, predicting_items])\n",
    "        \n",
    "        # new_row = pd.DataFrame({\n",
    "        #     'user_id': [user_id_to_idx[user_id]],\n",
    "        #     'given_user_history': [given_history],\n",
    "        #     'predicting_items': [predicting_items]\n",
    "        # })\n",
    "        # test_formatted = pd.concat([test_formatted, new_row], ignore_index=True)\n",
    "\n",
    "# test_formatted.to_csv(os.path.join(target_path, 'test.tsv'), sep='\\t', index=False)\n"
   ]
  },
  {
   "cell_type": "code",
   "execution_count": 79,
   "metadata": {},
   "outputs": [
    {
     "name": "stderr",
     "output_type": "stream",
     "text": [
      "100%|██████████| 482934/482934 [08:23<00:00, 958.88it/s] \n"
     ]
    }
   ],
   "source": [
    "\n",
    "import csv\n",
    "# Process training data\n",
    "train_formatted = pd.DataFrame(columns=['uid', 'his_seq', 'next_item'])\n",
    "\n",
    "with open(os.path.join(target_path, 'training.tsv'), \"w\", newline='') as csv_file:\n",
    "    writer = csv.writer(csv_file, delimiter=\"\\t\")\n",
    "    writer.writerow([\"uid\", \"his_seq\", \"next_item\"])\n",
    "    for user_id, group in tqdm(train_data.groupby('user_id')):\n",
    "        # Sort by date first\n",
    "        sorted_group = group.sort_values('date')\n",
    "        business_ids = sorted_group['business_id'].tolist()\n",
    "        \n",
    "        # Create all possible sequences\n",
    "        for i in range(1, len(business_ids)):\n",
    "            history = [business_id_to_idx[bid] for bid in business_ids[:i]]\n",
    "            target = business_id_to_idx[business_ids[i]]\n",
    "            \n",
    "            writer.writerow([user_id_to_idx[user_id], history, target])\n",
    "#             new_row = pd.DataFrame({\n",
    "#                 'uid': [user_id_to_idx[user_id]],\n",
    "#                 'his_seq': [history],\n",
    "#                 'next_item': [target]\n",
    "#             })\n",
    "#             train_formatted = pd.concat([train_formatted, new_row], ignore_index=True)\n",
    "\n",
    "# train_formatted.to_csv(os.path.join(target_path, 'training.tsv'), sep='\\t', index=False)\n"
   ]
  },
  {
   "cell_type": "code",
   "execution_count": 70,
   "metadata": {},
   "outputs": [
    {
     "data": {
      "text/plain": [
       "[554874,\n",
       " [162535, 162537, 162538, 162539, 162540, 162541, 162536, 162533, 170311],\n",
       " 170312]"
      ]
     },
     "execution_count": 70,
     "metadata": {},
     "output_type": "execute_result"
    }
   ],
   "source": [
    "# write to file\n",
    "\n",
    "\n",
    "\n",
    "\n",
    "[user_id_to_idx[user_id], history, target]\n"
   ]
  },
  {
   "cell_type": "code",
   "execution_count": 80,
   "metadata": {},
   "outputs": [
    {
     "name": "stdout",
     "output_type": "stream",
     "text": [
      "['uid\\this_seq\\tnext_item']\n",
      "['412749\\t[46615]\\t133994']\n",
      "['412749\\t[46615', ' 133994]\\t202452']\n"
     ]
    }
   ],
   "source": [
    "with open(os.path.join(target_path, 'training.tsv'), newline='') as f:\n",
    "  reader = csv.reader(f)\n",
    "  row1 = next(reader)  # gets the first line\n",
    "  print(row1)\n",
    "  row = next(reader)\n",
    "  print(row)\n",
    "  row = next(reader)\n",
    "  print(row)"
   ]
  },
  {
   "cell_type": "code",
   "execution_count": 72,
   "metadata": {},
   "outputs": [
    {
     "ename": "ValueError",
     "evalue": "I/O operation on closed file.",
     "output_type": "error",
     "traceback": [
      "\u001b[1;31m---------------------------------------------------------------------------\u001b[0m",
      "\u001b[1;31mValueError\u001b[0m                                Traceback (most recent call last)",
      "Cell \u001b[1;32mIn[72], line 1\u001b[0m\n\u001b[1;32m----> 1\u001b[0m row \u001b[38;5;241m=\u001b[39m \u001b[38;5;28;43mnext\u001b[39;49m\u001b[43m(\u001b[49m\u001b[43mreader\u001b[49m\u001b[43m)\u001b[49m\n\u001b[0;32m      2\u001b[0m \u001b[38;5;28mprint\u001b[39m(row)\n",
      "\u001b[1;31mValueError\u001b[0m: I/O operation on closed file."
     ]
    }
   ],
   "source": [
    "row = next(reader)\n",
    "print(row)"
   ]
  },
  {
   "cell_type": "code",
   "execution_count": 74,
   "metadata": {},
   "outputs": [
    {
     "name": "stdout",
     "output_type": "stream",
     "text": [
      "['user_id\\tuser_history\\tnext_item']\n",
      "['0\\t[17978]\\t901']\n",
      "['0\\t[17978', ' 901]\\t97224']\n"
     ]
    }
   ],
   "source": [
    "with open(os.path.join('../../../../Books/Books/raw_data/training.tsv'), newline='') as f:\n",
    "  reader = csv.reader(f)\n",
    "  row1 = next(reader)  # gets the first line\n",
    "  print(row1)\n",
    "  row = next(reader)\n",
    "  print(row)\n",
    "  row = next(reader)\n",
    "  print(row)"
   ]
  }
 ],
 "metadata": {
  "kernelspec": {
   "display_name": "Python 3",
   "language": "python",
   "name": "python3"
  },
  "language_info": {
   "codemirror_mode": {
    "name": "ipython",
    "version": 3
   },
   "file_extension": ".py",
   "mimetype": "text/x-python",
   "name": "python",
   "nbconvert_exporter": "python",
   "pygments_lexer": "ipython3",
   "version": "3.9.20"
  }
 },
 "nbformat": 4,
 "nbformat_minor": 2
}
