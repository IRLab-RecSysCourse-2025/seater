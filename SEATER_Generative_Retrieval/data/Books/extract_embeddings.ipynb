{
 "cells": [
  {
   "cell_type": "code",
   "execution_count": 2,
   "metadata": {},
   "outputs": [],
   "source": [
    "import torch\n",
    "import numpy as np\n",
    "from tqdm import tqdm\n",
    "import os\n",
    "import json"
   ]
  },
  {
   "cell_type": "code",
   "execution_count": 13,
   "metadata": {},
   "outputs": [
    {
     "name": "stdout",
     "output_type": "stream",
     "text": [
      "torch.Size([64, 64])\n"
     ]
    },
    {
     "ename": "KeyError",
     "evalue": "'model_state_dict'",
     "output_type": "error",
     "traceback": [
      "\u001b[0;31m---------------------------------------------------------------------------\u001b[0m",
      "\u001b[0;31mKeyError\u001b[0m                                  Traceback (most recent call last)",
      "Cell \u001b[0;32mIn[13], line 26\u001b[0m\n\u001b[1;32m     24\u001b[0m \u001b[38;5;66;03m# Example usage\u001b[39;00m\n\u001b[1;32m     25\u001b[0m model_path \u001b[38;5;241m=\u001b[39m \u001b[38;5;124m'\u001b[39m\u001b[38;5;124mSEATER_checkpoint/best.pth\u001b[39m\u001b[38;5;124m'\u001b[39m  \u001b[38;5;66;03m# Update with actual model path\u001b[39;00m\n\u001b[0;32m---> 26\u001b[0m embeddings \u001b[38;5;241m=\u001b[39m \u001b[43mextract_item_embeddings\u001b[49m\u001b[43m(\u001b[49m\u001b[43mmodel_path\u001b[49m\u001b[43m)\u001b[49m\n\u001b[1;32m     27\u001b[0m \u001b[38;5;28mprint\u001b[39m(\u001b[38;5;124mf\u001b[39m\u001b[38;5;124m\"\u001b[39m\u001b[38;5;124mEmbedding shape: \u001b[39m\u001b[38;5;132;01m{\u001b[39;00membeddings\u001b[38;5;241m.\u001b[39mshape\u001b[38;5;132;01m}\u001b[39;00m\u001b[38;5;124m\"\u001b[39m)\n",
      "Cell \u001b[0;32mIn[13], line 16\u001b[0m, in \u001b[0;36mextract_item_embeddings\u001b[0;34m(model_path, output_dir)\u001b[0m\n\u001b[1;32m     12\u001b[0m \u001b[38;5;28mprint\u001b[39m(checkpoint[\u001b[38;5;124m'\u001b[39m\u001b[38;5;124msim_W\u001b[39m\u001b[38;5;124m'\u001b[39m]\u001b[38;5;241m.\u001b[39mshape)\n\u001b[1;32m     14\u001b[0m \u001b[38;5;66;03m# Extract item embeddings from model state dict\u001b[39;00m\n\u001b[1;32m     15\u001b[0m \u001b[38;5;66;03m# Assuming embeddings are stored in 'item_embeddings.weight'\u001b[39;00m\n\u001b[0;32m---> 16\u001b[0m item_embeddings \u001b[38;5;241m=\u001b[39m \u001b[43mcheckpoint\u001b[49m\u001b[43m[\u001b[49m\u001b[38;5;124;43m'\u001b[39;49m\u001b[38;5;124;43mmodel_state_dict\u001b[39;49m\u001b[38;5;124;43m'\u001b[39;49m\u001b[43m]\u001b[49m[\u001b[38;5;124m'\u001b[39m\u001b[38;5;124mitem_embeddings.weight\u001b[39m\u001b[38;5;124m'\u001b[39m]\u001b[38;5;241m.\u001b[39mnumpy()\n\u001b[1;32m     18\u001b[0m \u001b[38;5;66;03m# Save embeddings\u001b[39;00m\n\u001b[1;32m     19\u001b[0m np\u001b[38;5;241m.\u001b[39msave(output_dir, item_embeddings)\n",
      "\u001b[0;31mKeyError\u001b[0m: 'model_state_dict'"
     ]
    }
   ],
   "source": [
    "def extract_item_embeddings(model_path, output_dir='item_embeddings.npy'):\n",
    "    \"\"\"\n",
    "    Extract item embeddings from a trained model checkpoint and save as numpy array\n",
    "    \n",
    "    Args:\n",
    "        model_path: Path to the model checkpoint file\n",
    "        output_dir: Path to save the embeddings\n",
    "    \"\"\"\n",
    "    # Load model checkpoint\n",
    "    checkpoint = torch.load(model_path, map_location='cpu')\n",
    "\n",
    "    print(checkpoint['sim_W'].shape)\n",
    "    \n",
    "    # Extract item embeddings from model state dict\n",
    "    # Assuming embeddings are stored in 'item_embeddings.weight'\n",
    "    item_embeddings = checkpoint['model_state_dict']['item_embeddings.weight'].numpy()\n",
    "    \n",
    "    # Save embeddings\n",
    "    np.save(output_dir, item_embeddings)\n",
    "    print(f\"Embeddings saved to: {output_dir}\")\n",
    "    \n",
    "    return item_embeddings\n",
    "\n",
    "# Example usage\n",
    "model_path = 'SEATER_checkpoint/best.pth'  # Update with actual model path\n",
    "embeddings = extract_item_embeddings(model_path)\n",
    "print(f\"Embedding shape: {embeddings.shape}\")\n"
   ]
  },
  {
   "cell_type": "code",
   "execution_count": null,
   "metadata": {},
   "outputs": [],
   "source": []
  }
 ],
 "metadata": {
  "kernelspec": {
   "display_name": "seater",
   "language": "python",
   "name": "python3"
  },
  "language_info": {
   "codemirror_mode": {
    "name": "ipython",
    "version": 3
   },
   "file_extension": ".py",
   "mimetype": "text/x-python",
   "name": "python",
   "nbconvert_exporter": "python",
   "pygments_lexer": "ipython3",
   "version": "3.9.16"
  }
 },
 "nbformat": 4,
 "nbformat_minor": 2
}
