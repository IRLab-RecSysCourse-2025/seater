{
 "cells": [
  {
   "cell_type": "code",
   "execution_count": 14,
   "metadata": {},
   "outputs": [],
   "source": [
    "import torch\n",
    "import numpy as np"
   ]
  },
  {
   "cell_type": "code",
   "execution_count": 21,
   "metadata": {},
   "outputs": [
    {
     "name": "stdout",
     "output_type": "stream",
     "text": [
      "Embeddings saved to: vocab/Books_SASREC_item_emb.npy\n",
      "Embedding shape: (367983, 64)\n"
     ]
    }
   ],
   "source": [
    "def extract_item_embeddings(model_path, output_file='vocab/Books_SASREC_item_emb.npy'):\n",
    "    \"\"\"\n",
    "    Extract item embeddings from a trained model checkpoint and save as numpy array\n",
    "    \n",
    "    Args:\n",
    "        model_path: Path to the model checkpoint file\n",
    "        output_dir: Path to save the embeddings\n",
    "    \"\"\"\n",
    "    # Load model checkpoint\n",
    "    checkpoint = torch.load(model_path, map_location='cpu')\n",
    "    \n",
    "    # Extract item embeddings from model state dict\n",
    "    # Assuming embeddings are stored in 'item_embeddings.weight'\n",
    "    item_embeddings = checkpoint['item_feat.emb_look_up.weight'].numpy()\n",
    "    \n",
    "    # Save embeddings\n",
    "    np.save(output_file, item_embeddings)\n",
    "    print(f\"Embeddings saved to: {output_file}\")\n",
    "    \n",
    "    return item_embeddings\n",
    "\n",
    "# Example usage\n",
    "model_path = 'SASRec_checkpoint/best.pth'  # Update with actual model path\n",
    "embeddings = extract_item_embeddings(model_path)\n",
    "print(f\"Embedding shape: {embeddings.shape}\")\n"
   ]
  }
 ],
 "metadata": {
  "kernelspec": {
   "display_name": "seater",
   "language": "python",
   "name": "python3"
  },
  "language_info": {
   "codemirror_mode": {
    "name": "ipython",
    "version": 3
   },
   "file_extension": ".py",
   "mimetype": "text/x-python",
   "name": "python",
   "nbconvert_exporter": "python",
   "pygments_lexer": "ipython3",
   "version": "3.9.16"
  }
 },
 "nbformat": 4,
 "nbformat_minor": 2
}
