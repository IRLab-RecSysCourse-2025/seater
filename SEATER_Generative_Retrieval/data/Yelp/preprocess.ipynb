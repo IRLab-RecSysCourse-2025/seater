{
 "cells": [
  {
   "cell_type": "code",
   "execution_count": 1,
   "metadata": {},
   "outputs": [],
   "source": [
    "import pandas as pd\n",
    "import numpy as np\n",
    "import os\n",
    "import polars as pl\n",
    "\n",
    "# Load Yelp data from raw_data directory\n",
    "raw_data_path = '../../../../Yelp/Yelp/raw_data/'\n",
    "target_path = '../../../../Yelp/Yelp/dataset/'\n",
    "filter_size = 5"
   ]
  },
  {
   "cell_type": "code",
   "execution_count": 14,
   "metadata": {},
   "outputs": [],
   "source": [
    "import ijson\n",
    "f = open(os.path.join(raw_data_path, 'yelp_academic_dataset_review.json'), 'rb')\n",
    "parser = ijson.parse(f, multiple_values = True)"
   ]
  },
  {
   "cell_type": "code",
   "execution_count": 15,
   "metadata": {},
   "outputs": [],
   "source": [
    "import csv\n",
    "with open(os.path.join(raw_data_path, 'yelp_review_reduced.csv'), \"w\") as csv_file:\n",
    "        writer = csv.writer(csv_file, delimiter=' ')\n",
    "        data = []\n",
    "        for prefix, event, value in parser:\n",
    "            if prefix==\"review_id\":\n",
    "                data.append(value)\n",
    "            elif prefix==\"user_id\":\n",
    "                data.append(value)\n",
    "            elif prefix==\"business_id\":\n",
    "                data.append(value)\n",
    "            elif prefix==\"date\":\n",
    "                data.append(value)\n",
    "            elif event == \"end_map\":\n",
    "                writer.writerow(data)\n",
    "                data = []"
   ]
  },
  {
   "cell_type": "code",
   "execution_count": 2,
   "metadata": {},
   "outputs": [],
   "source": [
    "review_df = pd.read_csv(os.path.join(raw_data_path, 'yelp_review_reduced.csv'), sep = ' ', header=None)"
   ]
  },
  {
   "cell_type": "code",
   "execution_count": 3,
   "metadata": {},
   "outputs": [],
   "source": [
    "review_df = review_df.rename(columns={0:'review_id', 1:'user_id', 2:'business_id', 3:'date'})"
   ]
  },
  {
   "cell_type": "code",
   "execution_count": 4,
   "metadata": {},
   "outputs": [],
   "source": [
    "# Create business_id to incremental id mapping\n",
    "unique_business_ids = review_df['business_id'].unique()\n",
    "business_id_to_idx = {business_id: idx for idx, business_id in enumerate(unique_business_ids)}\n",
    "\n",
    "# Create user_id to incremental id mapping\n",
    "unique_user_ids = review_df['user_id'].unique()\n",
    "user_id_to_idx = {user_id: idx for idx, user_id in enumerate(unique_user_ids)}\n"
   ]
  },
  {
   "cell_type": "code",
   "execution_count": 5,
   "metadata": {},
   "outputs": [],
   "source": [
    "# Filter items by popularity\n",
    "item_counts = review_df['business_id'].value_counts()\n",
    "popular_items = item_counts[item_counts >= filter_size].index.tolist()\n",
    "\n",
    "# Filter reviews to only include popular items\n",
    "filtered_reviews = review_df[review_df['business_id'].isin(popular_items)]\n",
    "\n",
    "# Filter users by activity\n",
    "user_counts = filtered_reviews['user_id'].value_counts()\n",
    "active_users = user_counts[user_counts >= filter_size].index.tolist()\n",
    "\n",
    "# Filter reviews to only include active users\n",
    "filtered_reviews = filtered_reviews[filtered_reviews['user_id'].isin(active_users)]\n",
    "\n",
    "# Get unique user IDs and shuffle them\n",
    "user_ids = filtered_reviews['user_id'].unique()\n",
    "np.random.shuffle(user_ids)\n",
    "\n",
    "# Split users into train/valid/test\n",
    "num_users = len(user_ids)\n",
    "split_1 = int(num_users * 0.8)\n",
    "split_2 = int(num_users * 0.9)\n",
    "train_users = user_ids[:split_1]\n",
    "valid_users = user_ids[split_1:split_2]\n",
    "test_users = user_ids[split_2:]\n",
    "\n",
    "# Process each split\n",
    "train_data = filtered_reviews[filtered_reviews['user_id'].isin(train_users)]\n",
    "valid_data = filtered_reviews[filtered_reviews['user_id'].isin(valid_users)]\n",
    "test_data = filtered_reviews[filtered_reviews['user_id'].isin(test_users)]"
   ]
  },
  {
   "cell_type": "code",
   "execution_count": null,
   "metadata": {},
   "outputs": [
    {
     "data": {
      "text/plain": [
       "14061228"
      ]
     },
     "execution_count": 27,
     "metadata": {},
     "output_type": "execute_result"
    }
   ],
   "source": [
    "train_data.shape[0]"
   ]
  },
  {
   "cell_type": "code",
   "execution_count": null,
   "metadata": {},
   "outputs": [
    {
     "name": "stderr",
     "output_type": "stream",
     "text": [
      "  0%|          | 0/28712 [00:00<?, ?it/s]\n"
     ]
    },
    {
     "ename": "NameError",
     "evalue": "name 'writer' is not defined",
     "output_type": "error",
     "traceback": [
      "\u001b[1;31m---------------------------------------------------------------------------\u001b[0m",
      "\u001b[1;31mNameError\u001b[0m                                 Traceback (most recent call last)",
      "Cell \u001b[1;32mIn[6], line 13\u001b[0m\n\u001b[0;32m     10\u001b[0m given_history \u001b[38;5;241m=\u001b[39m [business_id_to_idx[bid] \u001b[38;5;28;01mfor\u001b[39;00m bid \u001b[38;5;129;01min\u001b[39;00m business_ids[:split_idx]]\n\u001b[0;32m     11\u001b[0m predicting_items \u001b[38;5;241m=\u001b[39m [business_id_to_idx[bid] \u001b[38;5;28;01mfor\u001b[39;00m bid \u001b[38;5;129;01min\u001b[39;00m business_ids[split_idx:]]\n\u001b[1;32m---> 13\u001b[0m \u001b[43mwriter\u001b[49m\u001b[38;5;241m.\u001b[39mwriterow([[user_id_to_idx[user_id]], [given_history], [predicting_items]])\n",
      "\u001b[1;31mNameError\u001b[0m: name 'writer' is not defined"
     ]
    }
   ],
   "source": [
    "from tqdm import tqdm\n",
    "# Process validation data\n",
    "valid_formatted = pd.DataFrame(columns=['user_id', 'given_user_history', 'predicting_items'])\n",
    "\n",
    "for user_id, group in tqdm(valid_data.groupby('user_id')):\n",
    "    # Sort by date first\n",
    "    sorted_group = group.sort_values('date')\n",
    "    business_ids = sorted_group['business_id'].tolist()\n",
    "    split_idx = int(len(business_ids) * 0.8)\n",
    "    given_history = [business_id_to_idx[bid] for bid in business_ids[:split_idx]]\n",
    "    predicting_items = [business_id_to_idx[bid] for bid in business_ids[split_idx:]]\n",
    "    \n",
    "    \n",
    "    new_row = pd.DataFrame({\n",
    "        'user_id': [user_id_to_idx[user_id]],\n",
    "        'given_user_history': [given_history],\n",
    "        'predicting_items': [predicting_items]\n",
    "    })\n",
    "    valid_formatted = pd.concat([valid_formatted, new_row], ignore_index=True)\n",
    "\n",
    "valid_formatted.to_csv(os.path.join(target_path, 'validation.tsv'), sep='\\t', index=False)\n"
   ]
  },
  {
   "cell_type": "code",
   "execution_count": 32,
   "metadata": {},
   "outputs": [
    {
     "name": "stderr",
     "output_type": "stream",
     "text": [
      "100%|██████████| 28712/28712 [01:05<00:00, 436.80it/s]\n"
     ]
    }
   ],
   "source": [
    "\n",
    "# Process test data\n",
    "test_formatted = pd.DataFrame(columns=['user_id', 'given_user_history', 'predicting_items'])\n",
    "\n",
    "for user_id, group in tqdm(test_data.groupby('user_id')):\n",
    "    # Sort by date first\n",
    "    sorted_group = group.sort_values('date')\n",
    "    business_ids = sorted_group['business_id'].tolist()\n",
    "    split_idx = int(len(business_ids) * 0.8)\n",
    "    given_history = [business_id_to_idx[bid] for bid in business_ids[:split_idx]]\n",
    "    predicting_items = [business_id_to_idx[bid] for bid in business_ids[split_idx:]]\n",
    "    \n",
    "    new_row = pd.DataFrame({\n",
    "        'user_id': [user_id_to_idx[user_id]],\n",
    "        'given_user_history': [given_history],\n",
    "        'predicting_items': [predicting_items]\n",
    "    })\n",
    "    test_formatted = pd.concat([test_formatted, new_row], ignore_index=True)\n",
    "\n",
    "test_formatted.to_csv(os.path.join(target_path, 'test.tsv'), sep='\\t', index=False)\n"
   ]
  },
  {
   "cell_type": "code",
   "execution_count": 9,
   "metadata": {},
   "outputs": [
    {
     "name": "stderr",
     "output_type": "stream",
     "text": [
      "100%|██████████| 229692/229692 [03:41<00:00, 1035.92it/s]\n"
     ]
    }
   ],
   "source": [
    "\n",
    "import csv\n",
    "# Process training data\n",
    "train_formatted = pd.DataFrame(columns=['uid', 'his_seq', 'next_item'])\n",
    "\n",
    "with open(os.path.join(target_path, 'training.tsv'), \"w\") as csv_file:\n",
    "    writer = csv.writer(csv_file, delimiter=\"\\t\")\n",
    "    writer.writerow([\"uid\", \"his_seq\", \"next_item\"])\n",
    "    for user_id, group in tqdm(train_data.groupby('user_id')):\n",
    "        # Sort by date first\n",
    "        sorted_group = group.sort_values('date')\n",
    "        business_ids = sorted_group['business_id'].tolist()\n",
    "        \n",
    "        # Create all possible sequences\n",
    "        for i in range(1, len(business_ids)):\n",
    "            history = [business_id_to_idx[bid] for bid in business_ids[:i]]\n",
    "            target = business_id_to_idx[business_ids[i]]\n",
    "            \n",
    "            writer.writerow([user_id_to_idx[user_id], history, target])\n",
    "#             new_row = pd.DataFrame({\n",
    "#                 'uid': [user_id_to_idx[user_id]],\n",
    "#                 'his_seq': [history],\n",
    "#                 'next_item': [target]\n",
    "#             })\n",
    "#             train_formatted = pd.concat([train_formatted, new_row], ignore_index=True)\n",
    "\n",
    "# train_formatted.to_csv(os.path.join(target_path, 'training.tsv'), sep='\\t', index=False)\n"
   ]
  },
  {
   "cell_type": "code",
   "execution_count": null,
   "metadata": {},
   "outputs": [],
   "source": [
    "# write to file\n",
    "\n",
    "\n",
    "\n",
    "\n",
    "display(train_formatted.head())\n"
   ]
  },
  {
   "cell_type": "code",
   "execution_count": null,
   "metadata": {},
   "outputs": [],
   "source": []
  }
 ],
 "metadata": {
  "kernelspec": {
   "display_name": "Python 3",
   "language": "python",
   "name": "python3"
  },
  "language_info": {
   "codemirror_mode": {
    "name": "ipython",
    "version": 3
   },
   "file_extension": ".py",
   "mimetype": "text/x-python",
   "name": "python",
   "nbconvert_exporter": "python",
   "pygments_lexer": "ipython3",
   "version": "3.9.20"
  }
 },
 "nbformat": 4,
 "nbformat_minor": 2
}
