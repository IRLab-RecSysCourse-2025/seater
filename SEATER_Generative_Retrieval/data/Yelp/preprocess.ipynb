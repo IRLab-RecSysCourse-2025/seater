{
 "cells": [
  {
   "cell_type": "code",
   "execution_count": 3,
   "metadata": {},
   "outputs": [],
   "source": [
    "import pandas as pd\n",
    "import numpy as np\n",
    "import os\n",
    "import polars as pl\n",
    "\n",
    "# Load Yelp data from raw_data directory\n",
    "raw_data_path = './raw_data/'\n",
    "filter_size = 5"
   ]
  },
  {
   "cell_type": "code",
   "execution_count": null,
   "metadata": {},
   "outputs": [],
   "source": [
    "review_df = pd.read_json(os.path.join(raw_data_path, 'yelp_academic_dataset_review.json'), lines=True)"
   ]
  },
  {
   "cell_type": "code",
   "execution_count": 5,
   "metadata": {},
   "outputs": [],
   "source": [
    "# Create business_id to incremental id mapping\n",
    "unique_business_ids = review_df['business_id'].unique()\n",
    "business_id_to_idx = {business_id: idx for idx, business_id in enumerate(unique_business_ids)}\n",
    "\n",
    "# Create user_id to incremental id mapping\n",
    "unique_user_ids = review_df['user_id'].unique()\n",
    "user_id_to_idx = {user_id: idx for idx, user_id in enumerate(unique_user_ids)}\n"
   ]
  },
  {
   "cell_type": "code",
   "execution_count": 7,
   "metadata": {},
   "outputs": [],
   "source": [
    "# Filter items by popularity\n",
    "item_counts = review_df['business_id'].value_counts()\n",
    "popular_items = item_counts[item_counts >= filter_size].index.tolist()\n",
    "\n",
    "# Filter reviews to only include popular items\n",
    "filtered_reviews = review_df[review_df['business_id'].isin(popular_items)]\n",
    "\n",
    "# Filter users by activity\n",
    "user_counts = filtered_reviews['user_id'].value_counts()\n",
    "active_users = user_counts[user_counts >= filter_size].index.tolist()\n",
    "\n",
    "# Filter reviews to only include active users\n",
    "filtered_reviews = filtered_reviews[filtered_reviews['user_id'].isin(active_users)]\n",
    "\n",
    "# Get unique user IDs and shuffle them\n",
    "user_ids = filtered_reviews['user_id'].unique()\n",
    "np.random.shuffle(user_ids)\n",
    "\n",
    "# Split users into train/valid/test\n",
    "num_users = len(user_ids)\n",
    "split_1 = int(num_users * 0.8)\n",
    "split_2 = int(num_users * 0.9)\n",
    "train_users = user_ids[:split_1]\n",
    "valid_users = user_ids[split_1:split_2]\n",
    "test_users = user_ids[split_2:]\n",
    "\n",
    "# Process each split\n",
    "train_data = filtered_reviews[filtered_reviews['user_id'].isin(train_users)]\n",
    "valid_data = filtered_reviews[filtered_reviews['user_id'].isin(valid_users)]\n",
    "test_data = filtered_reviews[filtered_reviews['user_id'].isin(test_users)]"
   ]
  },
  {
   "cell_type": "code",
   "execution_count": null,
   "metadata": {},
   "outputs": [],
   "source": [
    "display(valid_data.head())"
   ]
  },
  {
   "cell_type": "code",
   "execution_count": null,
   "metadata": {},
   "outputs": [],
   "source": [
    "# Process validation data\n",
    "valid_formatted = pd.DataFrame(columns=['user_id', 'given_user_history', 'predicting_items'])\n",
    "\n",
    "for user_id, group in valid_data.groupby('user_id'):\n",
    "    # Sort by date first\n",
    "    sorted_group = group.sort_values('date')\n",
    "    business_ids = sorted_group['business_id'].tolist()\n",
    "    split_idx = int(len(business_ids) * 0.8)\n",
    "    given_history = [business_id_to_idx[bid] for bid in business_ids[:split_idx]]\n",
    "    predicting_items = [business_id_to_idx[bid] for bid in business_ids[split_idx:]]\n",
    "    \n",
    "    new_row = pd.DataFrame({\n",
    "        'user_id': [user_id_to_idx[user_id]],\n",
    "        'given_user_history': [given_history],\n",
    "        'predicting_items': [predicting_items]\n",
    "    })\n",
    "    valid_formatted = pd.concat([valid_formatted, new_row], ignore_index=True)\n",
    "\n",
    "# Process test data\n",
    "test_formatted = pd.DataFrame(columns=['user_id', 'given_user_history', 'predicting_items'])\n",
    "\n",
    "for user_id, group in test_data.groupby('user_id'):\n",
    "    # Sort by date first\n",
    "    sorted_group = group.sort_values('date')\n",
    "    business_ids = sorted_group['business_id'].tolist()\n",
    "    split_idx = int(len(business_ids) * 0.8)\n",
    "    given_history = [business_id_to_idx[bid] for bid in business_ids[:split_idx]]\n",
    "    predicting_items = [business_id_to_idx[bid] for bid in business_ids[split_idx:]]\n",
    "    \n",
    "    new_row = pd.DataFrame({\n",
    "        'user_id': [user_id_to_idx[user_id]],\n",
    "        'given_user_history': [given_history],\n",
    "        'predicting_items': [predicting_items]\n",
    "    })\n",
    "    test_formatted = pd.concat([test_formatted, new_row], ignore_index=True)\n",
    "\n",
    "# Process training data\n",
    "train_formatted = pd.DataFrame(columns=['uid', 'his_seq', 'next_item'])\n",
    "\n",
    "for user_id, group in train_data.groupby('user_id'):\n",
    "    # Sort by date first\n",
    "    sorted_group = group.sort_values('date')\n",
    "    business_ids = sorted_group['business_id'].tolist()\n",
    "    \n",
    "    # Create all possible sequences\n",
    "    for i in range(1, len(business_ids)):\n",
    "        history = [business_id_to_idx[bid] for bid in business_ids[:i]]\n",
    "        target = business_id_to_idx[business_ids[i]]\n",
    "        \n",
    "        new_row = pd.DataFrame({\n",
    "            'uid': [user_id_to_idx[user_id]],\n",
    "            'his_seq': [history],\n",
    "            'next_item': [target]\n",
    "        })\n",
    "        train_formatted = pd.concat([train_formatted, new_row], ignore_index=True)\n"
   ]
  },
  {
   "cell_type": "code",
   "execution_count": null,
   "metadata": {},
   "outputs": [],
   "source": [
    "# write to file\n",
    "train_formatted.to_csv('dataset/training.tsv', sep='\\t', index=False)\n",
    "valid_formatted.to_csv('dataset/validation.tsv', sep='\\t', index=False)\n",
    "test_formatted.to_csv('dataset/test.tsv', sep='\\t', index=False)\n",
    "\n",
    "display(train_formatted.head())\n"
   ]
  },
  {
   "cell_type": "code",
   "execution_count": null,
   "metadata": {},
   "outputs": [],
   "source": []
  }
 ],
 "metadata": {
  "kernelspec": {
   "display_name": "seater",
   "language": "python",
   "name": "python3"
  },
  "language_info": {
   "codemirror_mode": {
    "name": "ipython",
    "version": 3
   },
   "file_extension": ".py",
   "mimetype": "text/x-python",
   "name": "python",
   "nbconvert_exporter": "python",
   "pygments_lexer": "ipython3",
   "version": "3.9.16"
  }
 },
 "nbformat": 4,
 "nbformat_minor": 2
}
